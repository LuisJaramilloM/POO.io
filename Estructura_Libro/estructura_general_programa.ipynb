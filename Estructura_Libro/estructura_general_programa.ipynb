{
  "cells": [
    {
      "cell_type": "raw",
      "metadata": {},
      "source": [
        "---\n",
        "title: \"Estructura general de un programa\"\n",
        "author: \"Luis Jaramillo\"\n",
        "format: html\n",
        "editor: visual\n",
        "---"
      ],
      "id": "7019f272"
    },
    {
      "cell_type": "markdown",
      "metadata": {},
      "source": [
        "## Estructura General de un Programa en JAVA\n",
        "\n",
        "En el mundo de la programación, la estructura del programa consiste en un conjunto de sentencias con su respectiva sintaxis que se aplica de manera general al momento de la creación de un programa en cualquier lenguaje de programación.\n",
        "\n",
        "Una sentencia es una unidad ejecutable más pequeña de un programa. En otras palabras, una línea de código escrita es una sentencia. Especifica y controla el flujo y orden de ejecución del programa. Una sentencia consta de palabras clave o reservadas como *cout, cin, for, while, if \\... else,* etc., expresiones, declaraciones o llamadas a funciones. Si no existen sentencias específicas de selección o salto, el programa se ejecuta de forma secuencial en el mismo orden en que se ha escrito el código fuente (es el que podríamos considerar orden \"natural\" de ejecución).\n",
        "\n",
        "Las sentencias se ejecutan evaluando la expresión. Todos los efectos colaterales de la evaluación son tenidos en cuenta antes de ejecutar la próxima sentencia. La mayoría de sentencias son asignaciones o llamadas a funciones. Un caso especial es la sentencia nula; consiste en un punto y coma (;) aislado. Una sentencia nula no hace nada, pero puede ser necesaria en situaciones en que la sintaxis del lenguaje espere una sentencia pero nuestro programa no necesita hacer nada.\n",
        "\n",
        "Pueden existir infinitas sentencias distintas e innumerables criterios para su clasificación. Las clases de sentencia son: - De expresión - Compuestas - De selección - De iteración - De salto - De declaración - Bloques de intento - Sentencias de pre proceso - Sentencias ensamblador\n",
        "\n",
        "Para utilizar los siguientes ejemplos realiza los siguientes pasos previos.\n",
        "\n",
        "1\\) crea una clase tipo main.\n",
        "\n",
        "2\\) copia lo que está dentro de las llaves de la línea \"public static void main(String\\[\\] args) {\"\n",
        "\n",
        "3\\) ejecuta el código en netbeans o vscode, o como hayas configurado.\n",
        "\n",
        "-   De expresión: Son sentencias que consisten en una expresión seguida de un punto y coma (;). La expresión puede ser una asignación, una llamada a un método, una operación aritmética, etc. Por ejemplo:\n",
        "\n",
        "\n",
        "```{java}\n",
        "public class Clasevirtual {\n",
        "    \n",
        "\n",
        "    public static void main(String[] args) {\n",
        "        int x,y;\n",
        "        x = 5; // Asigna el valor 5 a la variable x\n",
        "        System.out.println(\"Hola\"); // Llama al método println para mostrar un mensaje\n",
        "        y = x + 3; // Suma el valor de x y 3 y lo guarda en la variable y\n",
        "        System.out.println(y);\n",
        "    }\n",
        "}\n",
        "\n",
        "\n",
        "\n",
        "```"
      ],
      "id": "a124b75b"
    }
  ],
  "metadata": {
    "kernelspec": {
      "name": "python3",
      "language": "python",
      "display_name": "Python 3 (ipykernel)"
    }
  },
  "nbformat": 4,
  "nbformat_minor": 5
}